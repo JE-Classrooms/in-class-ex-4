{
 "cells": [
  {
   "cell_type": "markdown",
   "metadata": {},
   "source": [
    "# In-class exercise 4\n",
    "\n",
    "**Author:**"
   ]
  },
  {
   "cell_type": "markdown",
   "metadata": {},
   "source": [
    "**Note:** the total amount of possible extra points for exercises 1 and 2 is 0.5. Exercise 3, by itself, is worth 0.5 extra points. I will only consider the submissions before 5:03 PM."
   ]
  },
  {
   "cell_type": "markdown",
   "metadata": {},
   "source": [
    "**Exercise 1**\n",
    "\n",
    "Perform an initial analysis of the data:\n",
    "\n",
    "- What columns do you have in your data and what are their types?\n",
    "\n",
    "- Describe the base pay variable. Include summary statistics such as average, standard deviation, minimum and maximum.\n",
    "\n",
    "- Are there any employees with zero or negative base pay? If so, how many are there?\n",
    "\n",
    "- Create a new data frame only with employees with positive base pay"
   ]
  },
  {
   "cell_type": "code",
   "execution_count": null,
   "metadata": {},
   "outputs": [],
   "source": []
  },
  {
   "cell_type": "markdown",
   "metadata": {},
   "source": [
    "**Exercise 2:**\n",
    "\n",
    "- Using group by, compare the minimum, maximum and average base pay across different departments and years\n",
    "\n",
    "- What is the highest payed department on average for the year 2012? Please use sort values to answer\n",
    "\n",
    "- Show the average, min and max for base pay, over time pay and benefits? **On average**, is the department with the highest base pay the same as the department with the highest overtime pay and the highest benefits?"
   ]
  },
  {
   "cell_type": "code",
   "execution_count": null,
   "metadata": {},
   "outputs": [],
   "source": []
  },
  {
   "cell_type": "markdown",
   "metadata": {},
   "source": [
    "**Exercise 3:**\n",
    "\n",
    "- Using groupby show the total numbers of employees named ```Aaron``` and the total number of ```Technicians``` by ```Department``` (*hint:* Technicians have a job title containing the string\n",
    " ```'Tech'```) \n",
    "\n",
    " - What is the Department with the lowest number of Technicians? Does the department with the lowest number of Technicians changes by year? Show the table you are using to answer the question."
   ]
  },
  {
   "cell_type": "code",
   "execution_count": null,
   "metadata": {},
   "outputs": [],
   "source": []
  }
 ],
 "metadata": {
  "kernelspec": {
   "display_name": "Python 3.8.5 ('base')",
   "language": "python",
   "name": "python3"
  },
  "language_info": {
   "codemirror_mode": {
    "name": "ipython",
    "version": 3
   },
   "file_extension": ".py",
   "mimetype": "text/x-python",
   "name": "python",
   "nbconvert_exporter": "python",
   "pygments_lexer": "ipython3",
   "version": "3.8.5"
  },
  "orig_nbformat": 4,
  "vscode": {
   "interpreter": {
    "hash": "9fbb33e86ca55080a202fed700efde3fb4ffe3f46131e5b52201b9ba06ce5f72"
   }
  }
 },
 "nbformat": 4,
 "nbformat_minor": 2
}
